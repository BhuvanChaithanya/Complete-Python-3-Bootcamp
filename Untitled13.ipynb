{
  "nbformat": 4,
  "nbformat_minor": 0,
  "metadata": {
    "colab": {
      "provenance": [],
      "authorship_tag": "ABX9TyPkKJX8EO/awdJgV3DOgm23",
      "include_colab_link": true
    },
    "kernelspec": {
      "name": "python3",
      "display_name": "Python 3"
    },
    "language_info": {
      "name": "python"
    }
  },
  "cells": [
    {
      "cell_type": "markdown",
      "metadata": {
        "id": "view-in-github",
        "colab_type": "text"
      },
      "source": [
        "<a href=\"https://colab.research.google.com/github/BhuvanChaithanya/Complete-Python-3-Bootcamp/blob/master/Untitled13.ipynb\" target=\"_parent\"><img src=\"https://colab.research.google.com/assets/colab-badge.svg\" alt=\"Open In Colab\"/></a>"
      ]
    },
    {
      "cell_type": "code",
      "execution_count": 1,
      "metadata": {
        "id": "cweOJASAo1hr"
      },
      "outputs": [],
      "source": [
        "def vol(rad):\n",
        "  return (4/3)*3.14*rad**3"
      ]
    },
    {
      "cell_type": "code",
      "source": [
        "vol(2)"
      ],
      "metadata": {
        "colab": {
          "base_uri": "https://localhost:8080/"
        },
        "id": "Ix3T59ERpGXq",
        "outputId": "175e6f03-75f1-44b6-cde0-244b92ecb196"
      },
      "execution_count": 2,
      "outputs": [
        {
          "output_type": "execute_result",
          "data": {
            "text/plain": [
              "33.49333333333333"
            ]
          },
          "metadata": {},
          "execution_count": 2
        }
      ]
    },
    {
      "cell_type": "code",
      "source": [
        "def ran_check(num,low,high):\n",
        "  if num >= low and num <= high:\n",
        "    return True\n",
        "  else:\n",
        "    return False"
      ],
      "metadata": {
        "id": "npTRVIOMpJJs"
      },
      "execution_count": 9,
      "outputs": []
    },
    {
      "cell_type": "code",
      "source": [
        "ran_check(2,3,4)"
      ],
      "metadata": {
        "colab": {
          "base_uri": "https://localhost:8080/"
        },
        "id": "0jHjUv9IpYsw",
        "outputId": "3f4f2d57-6a56-4db5-96e2-3d4881131cd4"
      },
      "execution_count": 10,
      "outputs": [
        {
          "output_type": "execute_result",
          "data": {
            "text/plain": [
              "False"
            ]
          },
          "metadata": {},
          "execution_count": 10
        }
      ]
    },
    {
      "cell_type": "code",
      "source": [
        "ran_check(5,2,7)"
      ],
      "metadata": {
        "colab": {
          "base_uri": "https://localhost:8080/"
        },
        "id": "FAdF10K4paP2",
        "outputId": "0606bf1b-85d7-4325-8a4c-97aca284eca6"
      },
      "execution_count": 11,
      "outputs": [
        {
          "output_type": "execute_result",
          "data": {
            "text/plain": [
              "True"
            ]
          },
          "metadata": {},
          "execution_count": 11
        }
      ]
    },
    {
      "cell_type": "code",
      "source": [
        "def up_low(s):\n",
        "  lowcount = 0\n",
        "  upcount = 0\n",
        "  for x in s:\n",
        "    if x.isupper():\n",
        "      upcount+= 1\n",
        "    elif x.islower():\n",
        "      lowcount += 1\n",
        "  return upcount,lowcount\n",
        "\n"
      ],
      "metadata": {
        "id": "x9AIQjhrpdio"
      },
      "execution_count": 22,
      "outputs": []
    },
    {
      "cell_type": "code",
      "source": [
        "up_low('Hello Me. Rogers, how are you this fine Tuesday?')"
      ],
      "metadata": {
        "colab": {
          "base_uri": "https://localhost:8080/"
        },
        "id": "nSMp2W11qrk3",
        "outputId": "855d1207-3123-48a5-942a-9c7c0b845557"
      },
      "execution_count": 23,
      "outputs": [
        {
          "output_type": "execute_result",
          "data": {
            "text/plain": [
              "(4, 33)"
            ]
          },
          "metadata": {},
          "execution_count": 23
        }
      ]
    },
    {
      "cell_type": "code",
      "source": [
        "def unique_list(lst):\n",
        "  res = list(set(lst))\n",
        "  return res"
      ],
      "metadata": {
        "id": "P3ThFwb2q0qE"
      },
      "execution_count": 26,
      "outputs": []
    },
    {
      "cell_type": "code",
      "source": [
        "unique_list([1,1,1,1,2,2,3,3,4,4])"
      ],
      "metadata": {
        "colab": {
          "base_uri": "https://localhost:8080/"
        },
        "id": "XVp0xQG1ssZl",
        "outputId": "4aaf891c-60c2-4640-8c70-4f824a13f4a7"
      },
      "execution_count": 27,
      "outputs": [
        {
          "output_type": "execute_result",
          "data": {
            "text/plain": [
              "[1, 2, 3, 4]"
            ]
          },
          "metadata": {},
          "execution_count": 27
        }
      ]
    },
    {
      "cell_type": "code",
      "source": [
        "def multiply(*args):\n",
        "  res = 1\n",
        "  print(args)\n"
      ],
      "metadata": {
        "id": "zGod9WD8sxze"
      },
      "execution_count": 50,
      "outputs": []
    },
    {
      "cell_type": "code",
      "source": [
        "multiply([1,2,3,-4])"
      ],
      "metadata": {
        "colab": {
          "base_uri": "https://localhost:8080/"
        },
        "id": "kcCDm2CNtGy9",
        "outputId": "77f6516b-9f1f-46d2-d124-83c733de0a68"
      },
      "execution_count": 51,
      "outputs": [
        {
          "output_type": "stream",
          "name": "stdout",
          "text": [
            "([1, 2, 3, -4],)\n"
          ]
        }
      ]
    },
    {
      "cell_type": "code",
      "source": [
        "def palindrome(s):\n",
        "  if s == s[::-1]:\n",
        "    return True\n",
        "  else:\n",
        "    return False"
      ],
      "metadata": {
        "id": "-HerPYVQtImU"
      },
      "execution_count": 38,
      "outputs": []
    },
    {
      "cell_type": "code",
      "source": [
        "palindrome('helleh')"
      ],
      "metadata": {
        "colab": {
          "base_uri": "https://localhost:8080/"
        },
        "id": "QLlGbWortoRR",
        "outputId": "1f77fdf6-d5ab-407a-8ba5-134aeeb937dd"
      },
      "execution_count": 39,
      "outputs": [
        {
          "output_type": "execute_result",
          "data": {
            "text/plain": [
              "True"
            ]
          },
          "metadata": {},
          "execution_count": 39
        }
      ]
    },
    {
      "cell_type": "code",
      "source": [
        "import string\n",
        "\n",
        "def ispangram(str1, alphabet = string.ascii_lowercase):\n",
        "\n",
        "  x = str1.lower()\n",
        "  x = x.replace(\" \",\"\")\n",
        "  y = set(x)\n",
        "  print(y)\n",
        "  z = set(alphabet)\n",
        "  print(z)\n",
        "  if y == z:\n",
        "    return True\n",
        "  else:\n",
        "    return False"
      ],
      "metadata": {
        "id": "mQwbj6tptqCg"
      },
      "execution_count": 44,
      "outputs": []
    },
    {
      "cell_type": "code",
      "source": [
        "ispangram(\"The quick brown fox jumps over the lazy dog\")"
      ],
      "metadata": {
        "colab": {
          "base_uri": "https://localhost:8080/"
        },
        "id": "K1uJw261unFz",
        "outputId": "bb86da68-9e34-42bb-c213-40448bf67eee"
      },
      "execution_count": 45,
      "outputs": [
        {
          "output_type": "stream",
          "name": "stdout",
          "text": [
            "{'b', 'y', 'i', 'z', 'f', 'j', 'h', 'e', 't', 'u', 'r', 'l', 'g', 'm', 'x', 'a', 'c', 'w', 's', 'q', 'k', 'p', 'v', 'o', 'n', 'd'}\n",
            "{'b', 'y', 'i', 'z', 'f', 'j', 'h', 'e', 't', 'u', 'r', 'l', 'g', 'm', 'x', 'a', 'c', 'w', 's', 'q', 'k', 'p', 'v', 'o', 'n', 'd'}\n"
          ]
        },
        {
          "output_type": "execute_result",
          "data": {
            "text/plain": [
              "True"
            ]
          },
          "metadata": {},
          "execution_count": 45
        }
      ]
    },
    {
      "cell_type": "code",
      "source": [],
      "metadata": {
        "id": "toktP00wusZd"
      },
      "execution_count": null,
      "outputs": []
    }
  ]
}