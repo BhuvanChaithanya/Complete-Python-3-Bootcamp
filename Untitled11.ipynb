{
  "cells": [
    {
      "cell_type": "markdown",
      "metadata": {
        "id": "view-in-github",
        "colab_type": "text"
      },
      "source": [
        "<a href=\"https://colab.research.google.com/github/BhuvanChaithanya/Complete-Python-3-Bootcamp/blob/master/Untitled11.ipynb\" target=\"_parent\"><img src=\"https://colab.research.google.com/assets/colab-badge.svg\" alt=\"Open In Colab\"/></a>"
      ]
    },
    {
      "cell_type": "code",
      "execution_count": null,
      "metadata": {
        "colab": {
          "base_uri": "https://localhost:8080/"
        },
        "id": "fs4qhkPOmSa0",
        "outputId": "fb2a96b8-3606-49fb-c33e-1796eb1ead6d"
      },
      "outputs": [
        {
          "name": "stdout",
          "output_type": "stream",
          "text": [
            "it's true\n"
          ]
        }
      ],
      "source": [
        "if True:\n",
        "  print(\"it's true\")"
      ]
    },
    {
      "cell_type": "code",
      "execution_count": null,
      "metadata": {
        "colab": {
          "base_uri": "https://localhost:8080/"
        },
        "id": "M0Pj-pTamXXw",
        "outputId": "e25ff515-e370-4fa4-bbd4-229a5dc05d79"
      },
      "outputs": [
        {
          "name": "stdout",
          "output_type": "stream",
          "text": [
            "false\n"
          ]
        }
      ],
      "source": [
        "x = False\n",
        "if x:\n",
        "  print(\"it's true\")\n",
        "else:\n",
        "  print(\"false\")"
      ]
    },
    {
      "cell_type": "code",
      "execution_count": null,
      "metadata": {
        "colab": {
          "base_uri": "https://localhost:8080/"
        },
        "id": "pT5hwOjimvLS",
        "outputId": "7c3b523f-34f6-450d-eded-4f1c1b39d2d7"
      },
      "outputs": [
        {
          "name": "stdout",
          "output_type": "stream",
          "text": [
            "it is a bank\n"
          ]
        }
      ],
      "source": [
        "loc = 'bank'\n",
        "if loc == 'Auto Shop':\n",
        "  print(\"welcome\")\n",
        "elif loc == 'bank':\n",
        "  print(\"it is a bank\")\n",
        "else:\n",
        "  print(\"ok\")"
      ]
    },
    {
      "cell_type": "code",
      "execution_count": null,
      "metadata": {
        "id": "aJCkbZsHm1lg"
      },
      "outputs": [],
      "source": [
        "list1 = [1,2,3,4,5,6,7,8,9,10]"
      ]
    },
    {
      "cell_type": "code",
      "execution_count": null,
      "metadata": {
        "colab": {
          "base_uri": "https://localhost:8080/"
        },
        "id": "C7DvZV9JnUeg",
        "outputId": "f8c0df5a-ec1f-4420-8b43-a826fbc9a7d1"
      },
      "outputs": [
        {
          "name": "stdout",
          "output_type": "stream",
          "text": [
            "1\n",
            "2\n",
            "3\n",
            "4\n",
            "5\n",
            "6\n",
            "7\n",
            "8\n",
            "9\n",
            "10\n"
          ]
        }
      ],
      "source": [
        "for num in list1:\n",
        "  print(num)"
      ]
    },
    {
      "cell_type": "code",
      "execution_count": null,
      "metadata": {
        "colab": {
          "base_uri": "https://localhost:8080/"
        },
        "id": "fGXm4yz3nXEb",
        "outputId": "8a225ab5-8bb3-4067-881d-54a8a00d1004"
      },
      "outputs": [
        {
          "data": {
            "text/plain": [
              "2"
            ]
          },
          "execution_count": 12,
          "metadata": {},
          "output_type": "execute_result"
        }
      ],
      "source": [
        "17%5"
      ]
    },
    {
      "cell_type": "code",
      "execution_count": null,
      "metadata": {
        "colab": {
          "base_uri": "https://localhost:8080/"
        },
        "id": "NeARY08EnjMs",
        "outputId": "79555149-2ba2-4737-a834-e891383b08b6"
      },
      "outputs": [
        {
          "data": {
            "text/plain": [
              "3"
            ]
          },
          "execution_count": 13,
          "metadata": {},
          "output_type": "execute_result"
        }
      ],
      "source": [
        "17//5"
      ]
    },
    {
      "cell_type": "code",
      "execution_count": null,
      "metadata": {
        "colab": {
          "base_uri": "https://localhost:8080/"
        },
        "id": "87vbTOw7nl7e",
        "outputId": "42b71f9d-a459-42c5-ceae-9d267634bc81"
      },
      "outputs": [
        {
          "name": "stdout",
          "output_type": "stream",
          "text": [
            "odd\n",
            "2\n",
            "odd\n",
            "4\n",
            "odd\n",
            "6\n",
            "odd\n",
            "8\n",
            "odd\n",
            "10\n"
          ]
        }
      ],
      "source": [
        "for num in list1:\n",
        "  if num%2 == 0:\n",
        "    print(num)\n",
        "  else:\n",
        "    print(\"odd\")"
      ]
    },
    {
      "cell_type": "code",
      "execution_count": null,
      "metadata": {
        "colab": {
          "base_uri": "https://localhost:8080/"
        },
        "id": "w2aIGWCPnvtR",
        "outputId": "c4508156-542a-4ea1-ccea-2e6e4e0ecf9e"
      },
      "outputs": [
        {
          "name": "stdout",
          "output_type": "stream",
          "text": [
            "t\n",
            "h\n",
            "i\n",
            "s\n",
            " \n",
            "i\n",
            "s\n",
            " \n",
            "a\n",
            " \n",
            "s\n",
            "t\n",
            "r\n",
            "i\n",
            "n\n",
            "g\n"
          ]
        }
      ],
      "source": [
        "for letter in 'this is a string':\n",
        "  print(letter)"
      ]
    },
    {
      "cell_type": "code",
      "execution_count": null,
      "metadata": {
        "id": "oOXPeisAn5KR"
      },
      "outputs": [],
      "source": [
        "d = {'k1': 1, 'k2' :2, 'k3': 3}"
      ]
    },
    {
      "cell_type": "code",
      "execution_count": null,
      "metadata": {
        "colab": {
          "base_uri": "https://localhost:8080/"
        },
        "id": "a2MYwNIJoLnv",
        "outputId": "778445fd-fbcc-4096-c952-8c565cca5f3e"
      },
      "outputs": [
        {
          "name": "stdout",
          "output_type": "stream",
          "text": [
            "k1\n",
            "k2\n",
            "k3\n"
          ]
        }
      ],
      "source": [
        "for item in d:\n",
        "  print(item)"
      ]
    },
    {
      "cell_type": "code",
      "execution_count": null,
      "metadata": {
        "colab": {
          "base_uri": "https://localhost:8080/"
        },
        "id": "sEOK_qHHoNq5",
        "outputId": "be79b403-599a-4d77-c1ce-99fe83a8cc8e"
      },
      "outputs": [
        {
          "name": "stdout",
          "output_type": "stream",
          "text": [
            "k1\n",
            "1\n",
            "k2\n",
            "2\n",
            "k3\n",
            "3\n"
          ]
        }
      ],
      "source": [
        "for k,v in d.items():\n",
        "  print(k)\n",
        "  print(v)"
      ]
    },
    {
      "cell_type": "code",
      "execution_count": null,
      "metadata": {
        "colab": {
          "base_uri": "https://localhost:8080/"
        },
        "id": "stgKei6ooTj0",
        "outputId": "6c9454eb-8b12-4d92-f048-d9cd8b3817d0"
      },
      "outputs": [
        {
          "name": "stdout",
          "output_type": "stream",
          "text": [
            "x is currently 0\n",
            "x is currently 1\n",
            "x is currently 2\n",
            "x is currently 3\n",
            "x is currently 4\n",
            "x is currently 5\n",
            "x is currently 6\n",
            "x is currently 7\n",
            "x is currently 8\n",
            "x is currently 9\n"
          ]
        }
      ],
      "source": [
        "x = 0\n",
        "\n",
        "while x< 10:\n",
        "  print(f\"x is currently {x}\")\n",
        "  x += 1"
      ]
    },
    {
      "cell_type": "code",
      "execution_count": 4,
      "metadata": {
        "colab": {
          "base_uri": "https://localhost:8080/",
          "height": 140
        },
        "id": "Ety25LVqosiE",
        "outputId": "c575a6ee-6a27-4897-d66d-0132840c3024"
      },
      "outputs": [
        {
          "output_type": "error",
          "ename": "SyntaxError",
          "evalue": "invalid syntax. Perhaps you forgot a comma? (<ipython-input-4-5bc1fe30c7d3>, line 4)",
          "traceback": [
            "\u001b[0;36m  File \u001b[0;32m\"<ipython-input-4-5bc1fe30c7d3>\"\u001b[0;36m, line \u001b[0;32m4\u001b[0m\n\u001b[0;31m    print(' x is currently: 'x)\u001b[0m\n\u001b[0m          ^\u001b[0m\n\u001b[0;31mSyntaxError\u001b[0m\u001b[0;31m:\u001b[0m invalid syntax. Perhaps you forgot a comma?\n"
          ]
        }
      ],
      "source": []
    },
    {
      "cell_type": "code",
      "execution_count": 2,
      "metadata": {
        "id": "V6i1Ahcco_WI",
        "colab": {
          "base_uri": "https://localhost:8080/"
        },
        "outputId": "4e609a72-d7e5-4f0c-ed6b-231b4fd1502b"
      },
      "outputs": [
        {
          "output_type": "stream",
          "name": "stdout",
          "text": [
            "hello\n"
          ]
        }
      ],
      "source": [
        "print('hello')"
      ]
    },
    {
      "cell_type": "code",
      "source": [
        "def even(numlist):\n",
        "  for number in numlist:\n",
        "    if number%2 == 0:\n",
        "      return True\n",
        "    else:\n",
        "      pass"
      ],
      "metadata": {
        "id": "7nRjZIfYKKQg"
      },
      "execution_count": 7,
      "outputs": []
    },
    {
      "cell_type": "code",
      "source": [
        "even([1,2,3])"
      ],
      "metadata": {
        "colab": {
          "base_uri": "https://localhost:8080/"
        },
        "id": "9wnqEr-lMUiM",
        "outputId": "d0440696-d9fa-4a80-e9bb-727804dcc709"
      },
      "execution_count": 8,
      "outputs": [
        {
          "output_type": "execute_result",
          "data": {
            "text/plain": [
              "True"
            ]
          },
          "metadata": {},
          "execution_count": 8
        }
      ]
    },
    {
      "cell_type": "code",
      "source": [
        "#wrong code\n",
        "def even(numlist):\n",
        "  for number in numlist:\n",
        "    if number%2 ==0:\n",
        "      return True\n",
        "    else:\n",
        "      return False"
      ],
      "metadata": {
        "id": "zfpym0fdMejN"
      },
      "execution_count": 10,
      "outputs": []
    },
    {
      "cell_type": "code",
      "source": [
        "even([1,2,4])"
      ],
      "metadata": {
        "colab": {
          "base_uri": "https://localhost:8080/"
        },
        "id": "YU1ju1a8MvY5",
        "outputId": "b8bdd153-34e2-48b2-d482-5e68eee5530b"
      },
      "execution_count": 11,
      "outputs": [
        {
          "output_type": "execute_result",
          "data": {
            "text/plain": [
              "False"
            ]
          },
          "metadata": {},
          "execution_count": 11
        }
      ]
    },
    {
      "cell_type": "code",
      "source": [
        "def even(numlist):\n",
        "  for number in numlist:\n",
        "    if number %2 == 0:\n",
        "      return True\n",
        "    else:\n",
        "      pass\n",
        "  return False"
      ],
      "metadata": {
        "id": "siZRdURoM7eV"
      },
      "execution_count": 15,
      "outputs": []
    },
    {
      "cell_type": "code",
      "source": [
        "even([1,2,3])"
      ],
      "metadata": {
        "colab": {
          "base_uri": "https://localhost:8080/"
        },
        "id": "AZWp1NjDNJW4",
        "outputId": "ecb83172-1303-4d94-d1ea-33e56c9be778"
      },
      "execution_count": 16,
      "outputs": [
        {
          "output_type": "execute_result",
          "data": {
            "text/plain": [
              "True"
            ]
          },
          "metadata": {},
          "execution_count": 16
        }
      ]
    },
    {
      "cell_type": "code",
      "source": [
        "even([1,1,3])"
      ],
      "metadata": {
        "colab": {
          "base_uri": "https://localhost:8080/"
        },
        "id": "hC2ZcRvhNLJw",
        "outputId": "8bdb2179-02c9-4e7c-e33c-7bb38331cc87"
      },
      "execution_count": 17,
      "outputs": [
        {
          "output_type": "execute_result",
          "data": {
            "text/plain": [
              "False"
            ]
          },
          "metadata": {},
          "execution_count": 17
        }
      ]
    },
    {
      "cell_type": "code",
      "source": [
        "def checkeven(numlist):\n",
        "  even_num = []\n",
        "\n",
        "  for number in numlist:\n",
        "    if number%2 == 0:\n",
        "      even_num.append(number)\n",
        "    else:\n",
        "      pass\n",
        "  return even_num\n"
      ],
      "metadata": {
        "id": "q9ZkpaesNUSr"
      },
      "execution_count": 18,
      "outputs": []
    },
    {
      "cell_type": "code",
      "source": [
        "checkeven([1,2,3,4,5,6,77,89])"
      ],
      "metadata": {
        "colab": {
          "base_uri": "https://localhost:8080/"
        },
        "id": "49tz6QNsNwqW",
        "outputId": "fa9f535f-5b55-489a-cac0-66a96ac1599f"
      },
      "execution_count": 19,
      "outputs": [
        {
          "output_type": "execute_result",
          "data": {
            "text/plain": [
              "[2, 4, 6]"
            ]
          },
          "metadata": {},
          "execution_count": 19
        }
      ]
    },
    {
      "cell_type": "code",
      "source": [
        "stock = [('appl',2000),('goog',3000),('msft',4000)]"
      ],
      "metadata": {
        "id": "2ro-WgAGNzWq"
      },
      "execution_count": 20,
      "outputs": []
    },
    {
      "cell_type": "code",
      "source": [
        "for items in stock:\n",
        "  print(items)"
      ],
      "metadata": {
        "colab": {
          "base_uri": "https://localhost:8080/"
        },
        "id": "H9prlmjGN_f-",
        "outputId": "5c831353-5bc7-41d7-c0c7-bb12069500c3"
      },
      "execution_count": 22,
      "outputs": [
        {
          "output_type": "stream",
          "name": "stdout",
          "text": [
            "('appl', 2000)\n",
            "('goog', 3000)\n",
            "('msft', 4000)\n"
          ]
        }
      ]
    },
    {
      "cell_type": "code",
      "source": [
        "for sto,pri in stock:\n",
        "  print(sto)\n",
        "  print(pri)"
      ],
      "metadata": {
        "colab": {
          "base_uri": "https://localhost:8080/"
        },
        "id": "xHNfCefnOBu2",
        "outputId": "882fa414-772a-4cd8-d463-b60b99d89e5d"
      },
      "execution_count": 23,
      "outputs": [
        {
          "output_type": "stream",
          "name": "stdout",
          "text": [
            "appl\n",
            "2000\n",
            "goog\n",
            "3000\n",
            "msft\n",
            "4000\n"
          ]
        }
      ]
    },
    {
      "cell_type": "code",
      "source": [
        "work_hours = [('abby',100),('billy',400),('cassie',500)]"
      ],
      "metadata": {
        "id": "ZQ--BWGzOKsC"
      },
      "execution_count": 24,
      "outputs": []
    },
    {
      "cell_type": "code",
      "source": [
        "def emp_check(work_hours):\n",
        "  current_max = 0\n",
        "\n",
        "  employ_month = ''\n",
        "\n",
        "  for employ , hours in work_hours:\n",
        "    if hours > current_max:\n",
        "      current_max = hours\n",
        "      employ_month = employ\n",
        "    else:\n",
        "      pass\n",
        "    return (employ_month,current_max)"
      ],
      "metadata": {
        "id": "7aNqo4skOW9t"
      },
      "execution_count": 25,
      "outputs": []
    },
    {
      "cell_type": "code",
      "source": [
        "emp_check(work_hours)"
      ],
      "metadata": {
        "colab": {
          "base_uri": "https://localhost:8080/"
        },
        "id": "kLgxHxfHPPg7",
        "outputId": "6a429500-5341-474d-84bf-76423a7b4236"
      },
      "execution_count": 26,
      "outputs": [
        {
          "output_type": "execute_result",
          "data": {
            "text/plain": [
              "('abby', 100)"
            ]
          },
          "metadata": {},
          "execution_count": 26
        }
      ]
    },
    {
      "cell_type": "code",
      "source": [
        "example = [1,2,3,4,5]"
      ],
      "metadata": {
        "id": "hzFGPMGgPV0j"
      },
      "execution_count": 27,
      "outputs": []
    },
    {
      "cell_type": "code",
      "source": [
        "from random import shuffle"
      ],
      "metadata": {
        "id": "KD4kYjnQPyLy"
      },
      "execution_count": 28,
      "outputs": []
    },
    {
      "cell_type": "code",
      "source": [
        "shuffle(example)"
      ],
      "metadata": {
        "id": "8B9BSK5tP1un"
      },
      "execution_count": 29,
      "outputs": []
    },
    {
      "cell_type": "code",
      "source": [
        "example"
      ],
      "metadata": {
        "colab": {
          "base_uri": "https://localhost:8080/"
        },
        "id": "8ARMYr1rP3fi",
        "outputId": "b471a33f-6342-452e-d309-cc56d13f8548"
      },
      "execution_count": 30,
      "outputs": [
        {
          "output_type": "execute_result",
          "data": {
            "text/plain": [
              "[5, 4, 2, 3, 1]"
            ]
          },
          "metadata": {},
          "execution_count": 30
        }
      ]
    },
    {
      "cell_type": "code",
      "source": [
        "mylist = [' ','o',' ']"
      ],
      "metadata": {
        "id": "BQNBoSPQP4Si"
      },
      "execution_count": 31,
      "outputs": []
    },
    {
      "cell_type": "code",
      "source": [
        "def shuffle_list(mylist):\n",
        "  shuffle(mylist)\n",
        "  return mylist"
      ],
      "metadata": {
        "id": "6DcMyHmMQBBS"
      },
      "execution_count": 32,
      "outputs": []
    },
    {
      "cell_type": "code",
      "source": [
        "mylist"
      ],
      "metadata": {
        "colab": {
          "base_uri": "https://localhost:8080/"
        },
        "id": "QmwakBEaQHIE",
        "outputId": "c9f448cd-e22e-4040-9c69-2224b5406898"
      },
      "execution_count": 33,
      "outputs": [
        {
          "output_type": "execute_result",
          "data": {
            "text/plain": [
              "[' ', 'o', ' ']"
            ]
          },
          "metadata": {},
          "execution_count": 33
        }
      ]
    },
    {
      "cell_type": "code",
      "source": [
        "shuffle_list(mylist)"
      ],
      "metadata": {
        "colab": {
          "base_uri": "https://localhost:8080/"
        },
        "id": "4_5BW3I_QIoB",
        "outputId": "68e06e03-0bc5-4a99-a3ab-392c91a80175"
      },
      "execution_count": 35,
      "outputs": [
        {
          "output_type": "execute_result",
          "data": {
            "text/plain": [
              "['o', ' ', ' ']"
            ]
          },
          "metadata": {},
          "execution_count": 35
        }
      ]
    },
    {
      "cell_type": "code",
      "source": [
        "def playerguess():\n",
        "  guess = ''\n",
        "\n",
        "  while guess not in ['0','1','2']:\n",
        "    guess = input(\"pick a number: 0,1, or 2: \")\n",
        "\n",
        "  return int(guess)"
      ],
      "metadata": {
        "id": "_ayE3xKhQLS7"
      },
      "execution_count": 36,
      "outputs": []
    },
    {
      "cell_type": "code",
      "source": [
        "playerguess()"
      ],
      "metadata": {
        "colab": {
          "base_uri": "https://localhost:8080/"
        },
        "id": "rmC0m5sLQreD",
        "outputId": "d93ca091-d5db-48d5-ab5b-60e725d9705d"
      },
      "execution_count": 38,
      "outputs": [
        {
          "name": "stdout",
          "output_type": "stream",
          "text": [
            "pick a number: 0,1, or 2: 2\n"
          ]
        },
        {
          "output_type": "execute_result",
          "data": {
            "text/plain": [
              "2"
            ]
          },
          "metadata": {},
          "execution_count": 38
        }
      ]
    },
    {
      "cell_type": "code",
      "source": [
        "def check_guess(mylist,guess):\n",
        "  if mylist(guess) == 'o':\n",
        "    print('correct guess')\n",
        "  else:\n",
        "    print('wrong')\n"
      ],
      "metadata": {
        "id": "eTtJ70K3QtwB"
      },
      "execution_count": 39,
      "outputs": []
    },
    {
      "cell_type": "code",
      "source": [],
      "metadata": {
        "id": "hQefXnR-Q9Gi"
      },
      "execution_count": 40,
      "outputs": []
    },
    {
      "cell_type": "code",
      "source": [
        "mixed_list = shuffle_list(mylist)"
      ],
      "metadata": {
        "id": "a4ffFWM6RCza"
      },
      "execution_count": 41,
      "outputs": []
    },
    {
      "cell_type": "code",
      "source": [
        "guess = playerguess()"
      ],
      "metadata": {
        "colab": {
          "base_uri": "https://localhost:8080/"
        },
        "id": "Qew02E3pRGnZ",
        "outputId": "49436673-f133-4699-bb8a-ef8b7769b0e3"
      },
      "execution_count": 43,
      "outputs": [
        {
          "name": "stdout",
          "output_type": "stream",
          "text": [
            "pick a number: 0,1, or 2: 0\n"
          ]
        }
      ]
    },
    {
      "cell_type": "code",
      "source": [
        "check_guess(mixed_list, guess)"
      ],
      "metadata": {
        "colab": {
          "base_uri": "https://localhost:8080/",
          "height": 297
        },
        "id": "2aL_VC0vRIpi",
        "outputId": "29eed50f-ed2f-4ac9-df35-c95dc65314d0"
      },
      "execution_count": 44,
      "outputs": [
        {
          "output_type": "error",
          "ename": "TypeError",
          "evalue": "'list' object is not callable",
          "traceback": [
            "\u001b[0;31m---------------------------------------------------------------------------\u001b[0m",
            "\u001b[0;31mTypeError\u001b[0m                                 Traceback (most recent call last)",
            "\u001b[0;32m<ipython-input-44-c1325003751b>\u001b[0m in \u001b[0;36m<cell line: 1>\u001b[0;34m()\u001b[0m\n\u001b[0;32m----> 1\u001b[0;31m \u001b[0mcheck_guess\u001b[0m\u001b[0;34m(\u001b[0m\u001b[0mmixed_list\u001b[0m\u001b[0;34m,\u001b[0m \u001b[0mguess\u001b[0m\u001b[0;34m)\u001b[0m\u001b[0;34m\u001b[0m\u001b[0;34m\u001b[0m\u001b[0m\n\u001b[0m",
            "\u001b[0;32m<ipython-input-39-263b467047d3>\u001b[0m in \u001b[0;36mcheck_guess\u001b[0;34m(mylist, guess)\u001b[0m\n\u001b[1;32m      1\u001b[0m \u001b[0;32mdef\u001b[0m \u001b[0mcheck_guess\u001b[0m\u001b[0;34m(\u001b[0m\u001b[0mmylist\u001b[0m\u001b[0;34m,\u001b[0m\u001b[0mguess\u001b[0m\u001b[0;34m)\u001b[0m\u001b[0;34m:\u001b[0m\u001b[0;34m\u001b[0m\u001b[0;34m\u001b[0m\u001b[0m\n\u001b[0;32m----> 2\u001b[0;31m   \u001b[0;32mif\u001b[0m \u001b[0mmylist\u001b[0m\u001b[0;34m(\u001b[0m\u001b[0mguess\u001b[0m\u001b[0;34m)\u001b[0m \u001b[0;34m==\u001b[0m \u001b[0;34m'o'\u001b[0m\u001b[0;34m:\u001b[0m\u001b[0;34m\u001b[0m\u001b[0;34m\u001b[0m\u001b[0m\n\u001b[0m\u001b[1;32m      3\u001b[0m     \u001b[0mprint\u001b[0m\u001b[0;34m(\u001b[0m\u001b[0;34m'correct guess'\u001b[0m\u001b[0;34m)\u001b[0m\u001b[0;34m\u001b[0m\u001b[0;34m\u001b[0m\u001b[0m\n\u001b[1;32m      4\u001b[0m   \u001b[0;32melse\u001b[0m\u001b[0;34m:\u001b[0m\u001b[0;34m\u001b[0m\u001b[0;34m\u001b[0m\u001b[0m\n\u001b[1;32m      5\u001b[0m     \u001b[0mprint\u001b[0m\u001b[0;34m(\u001b[0m\u001b[0;34m'wrong'\u001b[0m\u001b[0;34m)\u001b[0m\u001b[0;34m\u001b[0m\u001b[0;34m\u001b[0m\u001b[0m\n",
            "\u001b[0;31mTypeError\u001b[0m: 'list' object is not callable"
          ]
        }
      ]
    },
    {
      "cell_type": "code",
      "source": [
        "def less(a,b):\n",
        "  if a%2 == 0 and b%2 == 0:\n",
        "    return min(a,b)\n",
        "  else:\n",
        "    return max(a,b)"
      ],
      "metadata": {
        "id": "NGSAuygQRTw6"
      },
      "execution_count": 1,
      "outputs": []
    },
    {
      "cell_type": "code",
      "source": [
        "less(2,3)"
      ],
      "metadata": {
        "colab": {
          "base_uri": "https://localhost:8080/"
        },
        "id": "61HcXu9SDw7b",
        "outputId": "c6f9cbde-f125-41fd-959d-75090318bb76"
      },
      "execution_count": 2,
      "outputs": [
        {
          "output_type": "execute_result",
          "data": {
            "text/plain": [
              "3"
            ]
          },
          "metadata": {},
          "execution_count": 2
        }
      ]
    },
    {
      "cell_type": "code",
      "source": [
        "less (2,4)"
      ],
      "metadata": {
        "colab": {
          "base_uri": "https://localhost:8080/"
        },
        "id": "ZeKp1GQID2Z2",
        "outputId": "fde769f4-88d8-45fa-88af-af7dc9ff0ac1"
      },
      "execution_count": 3,
      "outputs": [
        {
          "output_type": "execute_result",
          "data": {
            "text/plain": [
              "2"
            ]
          },
          "metadata": {},
          "execution_count": 3
        }
      ]
    },
    {
      "cell_type": "code",
      "source": [
        "def animal_cracker(text):\n",
        "  wordlist = text.split()\n",
        "  return wordlist[0][0] == wordlist[1][0]"
      ],
      "metadata": {
        "id": "u5aiiujaD34a"
      },
      "execution_count": 8,
      "outputs": []
    },
    {
      "cell_type": "code",
      "source": [
        "animal_cracker('Levelheaded Llama')"
      ],
      "metadata": {
        "colab": {
          "base_uri": "https://localhost:8080/"
        },
        "id": "w1_dk0tSER_X",
        "outputId": "586151c5-0890-42f2-a780-e791ac910c20"
      },
      "execution_count": 9,
      "outputs": [
        {
          "output_type": "execute_result",
          "data": {
            "text/plain": [
              "True"
            ]
          },
          "metadata": {},
          "execution_count": 9
        }
      ]
    },
    {
      "cell_type": "code",
      "source": [
        "def make20(n,m):\n",
        "  return (n+m) == 20 or n == 20 or m == 20"
      ],
      "metadata": {
        "id": "GiGWEeFiEWWx"
      },
      "execution_count": 10,
      "outputs": []
    },
    {
      "cell_type": "code",
      "source": [
        "make20(10,10)"
      ],
      "metadata": {
        "colab": {
          "base_uri": "https://localhost:8080/"
        },
        "id": "_aKuhsddEya0",
        "outputId": "f3fd2113-6fa1-4b18-8999-ea416d0d655e"
      },
      "execution_count": 11,
      "outputs": [
        {
          "output_type": "execute_result",
          "data": {
            "text/plain": [
              "True"
            ]
          },
          "metadata": {},
          "execution_count": 11
        }
      ]
    },
    {
      "cell_type": "code",
      "source": [
        "make20(20,3)"
      ],
      "metadata": {
        "colab": {
          "base_uri": "https://localhost:8080/"
        },
        "id": "FZwKtJ-OE0wP",
        "outputId": "d2701168-a739-4e76-a165-25c13c5b8bdb"
      },
      "execution_count": 12,
      "outputs": [
        {
          "output_type": "execute_result",
          "data": {
            "text/plain": [
              "True"
            ]
          },
          "metadata": {},
          "execution_count": 12
        }
      ]
    },
    {
      "cell_type": "code",
      "source": [
        "make20(10,3)"
      ],
      "metadata": {
        "colab": {
          "base_uri": "https://localhost:8080/"
        },
        "id": "3c6fQOcmE2RZ",
        "outputId": "03387299-f47d-47d0-930c-cf8e6ba6fcd1"
      },
      "execution_count": 13,
      "outputs": [
        {
          "output_type": "execute_result",
          "data": {
            "text/plain": [
              "False"
            ]
          },
          "metadata": {},
          "execution_count": 13
        }
      ]
    },
    {
      "cell_type": "code",
      "source": [
        "def old_macdonald(name):\n",
        "  if len(name) >3:\n",
        "    return name[:3].capitalize() + name[3:].capitalize()\n",
        "  else:\n",
        "    return 'name is too short'"
      ],
      "metadata": {
        "id": "b6v3TDRDE3q1"
      },
      "execution_count": 23,
      "outputs": []
    },
    {
      "cell_type": "code",
      "source": [
        "old_macdonald('macdonald')"
      ],
      "metadata": {
        "colab": {
          "base_uri": "https://localhost:8080/",
          "height": 35
        },
        "id": "cbRFkMT7Fvm4",
        "outputId": "03eb0ef7-484e-4132-92e6-8eef73f30388"
      },
      "execution_count": 24,
      "outputs": [
        {
          "output_type": "execute_result",
          "data": {
            "text/plain": [
              "'MacDonald'"
            ],
            "application/vnd.google.colaboratory.intrinsic+json": {
              "type": "string"
            }
          },
          "metadata": {},
          "execution_count": 24
        }
      ]
    },
    {
      "cell_type": "code",
      "source": [
        "def master_yoda(text):\n",
        "  return ' '.join(text.split()[::-1])"
      ],
      "metadata": {
        "id": "1jTg-sO9F10W"
      },
      "execution_count": 27,
      "outputs": []
    },
    {
      "cell_type": "code",
      "source": [
        "master_yoda('I am home')"
      ],
      "metadata": {
        "colab": {
          "base_uri": "https://localhost:8080/",
          "height": 35
        },
        "id": "J1WLPWtsG_p6",
        "outputId": "1c7d8768-bbb6-4f35-d51f-0bbed57e1b8d"
      },
      "execution_count": 28,
      "outputs": [
        {
          "output_type": "execute_result",
          "data": {
            "text/plain": [
              "'home am I'"
            ],
            "application/vnd.google.colaboratory.intrinsic+json": {
              "type": "string"
            }
          },
          "metadata": {},
          "execution_count": 28
        }
      ]
    },
    {
      "cell_type": "code",
      "source": [
        "def myfunc(text):\n",
        "    res = ''\n",
        "    x = enumerate(text)\n",
        "    for i , j in x:\n",
        "        if (i) % 2 != 0:\n",
        "            res += j.capitalize()\n",
        "        else:\n",
        "            res += j\n",
        "    return res\n",
        "\n",
        "print(myfunc('anthropomorphism'))\n"
      ],
      "metadata": {
        "colab": {
          "base_uri": "https://localhost:8080/"
        },
        "id": "By_ge02EHCqX",
        "outputId": "03663a26-8712-49be-a4ef-ff855301b4bb"
      },
      "execution_count": 1,
      "outputs": [
        {
          "output_type": "stream",
          "name": "stdout",
          "text": [
            "aNtHrOpOmOrPhIsM\n"
          ]
        }
      ]
    },
    {
      "cell_type": "code",
      "source": [
        "def less_of_two_even(a,b):\n",
        "  if a %2 == 0 and b % 2 == 0:\n",
        "    return ( min(a,b))\n",
        "  else:\n",
        "    return (max(a,b))\n",
        "\n",
        "less_of_two_even(2,4)"
      ],
      "metadata": {
        "colab": {
          "base_uri": "https://localhost:8080/"
        },
        "id": "sSvOD0pT8oM5",
        "outputId": "534ca1d4-fc07-4ee0-86c0-434171097e07"
      },
      "execution_count": 2,
      "outputs": [
        {
          "output_type": "execute_result",
          "data": {
            "text/plain": [
              "2"
            ]
          },
          "metadata": {},
          "execution_count": 2
        }
      ]
    },
    {
      "cell_type": "code",
      "source": [
        "less_of_two_even(2,5)"
      ],
      "metadata": {
        "colab": {
          "base_uri": "https://localhost:8080/"
        },
        "id": "VyVnpExJ9A78",
        "outputId": "8756df1b-6709-4366-de01-9946b8e0ccfd"
      },
      "execution_count": 3,
      "outputs": [
        {
          "output_type": "execute_result",
          "data": {
            "text/plain": [
              "5"
            ]
          },
          "metadata": {},
          "execution_count": 3
        }
      ]
    },
    {
      "cell_type": "code",
      "source": [
        "def animal_cracker(text):\n",
        "  return (text.split()[0][0]) == (text.split()[1][0])"
      ],
      "metadata": {
        "id": "SkbJxwha9EIr"
      },
      "execution_count": 4,
      "outputs": []
    },
    {
      "cell_type": "code",
      "source": [
        "animal_cracker('Levelheaded Llama')"
      ],
      "metadata": {
        "colab": {
          "base_uri": "https://localhost:8080/"
        },
        "id": "fjRqnIdW9a3P",
        "outputId": "fad95e88-280d-4a53-82c9-c8f361fd3f8e"
      },
      "execution_count": 5,
      "outputs": [
        {
          "output_type": "execute_result",
          "data": {
            "text/plain": [
              "True"
            ]
          },
          "metadata": {},
          "execution_count": 5
        }
      ]
    },
    {
      "cell_type": "code",
      "source": [
        "animal_cracker('Crazy Kangaroo')"
      ],
      "metadata": {
        "colab": {
          "base_uri": "https://localhost:8080/"
        },
        "id": "4uCj_eib9eQE",
        "outputId": "8f091b1a-03e1-4210-c26a-29ddfe8f298b"
      },
      "execution_count": 6,
      "outputs": [
        {
          "output_type": "execute_result",
          "data": {
            "text/plain": [
              "False"
            ]
          },
          "metadata": {},
          "execution_count": 6
        }
      ]
    },
    {
      "cell_type": "code",
      "source": [
        "def makes_twenty(n1,n2):\n",
        "  return (n1+n2) == 20 or n1 == 20 or n2 == 20"
      ],
      "metadata": {
        "id": "gbW1PCGe9hla"
      },
      "execution_count": 7,
      "outputs": []
    },
    {
      "cell_type": "code",
      "source": [
        "makes_twenty(20,10)"
      ],
      "metadata": {
        "colab": {
          "base_uri": "https://localhost:8080/"
        },
        "id": "v9OKPigV9vEj",
        "outputId": "473d2e0f-c739-48e6-c719-05521fffeb2a"
      },
      "execution_count": 8,
      "outputs": [
        {
          "output_type": "execute_result",
          "data": {
            "text/plain": [
              "True"
            ]
          },
          "metadata": {},
          "execution_count": 8
        }
      ]
    },
    {
      "cell_type": "code",
      "source": [
        "makes_twenty(2,3)"
      ],
      "metadata": {
        "colab": {
          "base_uri": "https://localhost:8080/"
        },
        "id": "VOpPK7VR9xqR",
        "outputId": "3d2783ec-c771-4615-8d4b-e9461e169fc0"
      },
      "execution_count": 9,
      "outputs": [
        {
          "output_type": "execute_result",
          "data": {
            "text/plain": [
              "False"
            ]
          },
          "metadata": {},
          "execution_count": 9
        }
      ]
    },
    {
      "cell_type": "code",
      "source": [
        "def old_macdonald(text):\n",
        "  if len(text) > 3:\n",
        "    return text[:3].capitalize()+ text[3:].capitalize()\n",
        "\n",
        "old_macdonald('macdonald')"
      ],
      "metadata": {
        "colab": {
          "base_uri": "https://localhost:8080/",
          "height": 35
        },
        "id": "-OJJocoQ9zza",
        "outputId": "7b3f5097-1c46-4d55-b421-ddc0a21413f7"
      },
      "execution_count": 11,
      "outputs": [
        {
          "output_type": "execute_result",
          "data": {
            "text/plain": [
              "'MacDonald'"
            ],
            "application/vnd.google.colaboratory.intrinsic+json": {
              "type": "string"
            }
          },
          "metadata": {},
          "execution_count": 11
        }
      ]
    },
    {
      "cell_type": "code",
      "source": [
        "def master_yoda(text):\n",
        "  x=text.split()\n",
        "  res = ' '\n",
        "  res = res.join(x[::-1])\n",
        "  return res\n",
        "\n",
        "master_yoda('I am home')\n",
        ""
      ],
      "metadata": {
        "colab": {
          "base_uri": "https://localhost:8080/",
          "height": 35
        },
        "id": "UkVoYqDp_iDd",
        "outputId": "cd505f8f-cab0-4e5a-d8b1-948abc12a81f"
      },
      "execution_count": 13,
      "outputs": [
        {
          "output_type": "execute_result",
          "data": {
            "text/plain": [
              "'home am I'"
            ],
            "application/vnd.google.colaboratory.intrinsic+json": {
              "type": "string"
            }
          },
          "metadata": {},
          "execution_count": 13
        }
      ]
    },
    {
      "cell_type": "code",
      "source": [
        "def almost_there(n):\n",
        "  return (abs(n-100))<10 or (abs(n-200)<10)\n",
        "\n",
        "almost_there(104)\n"
      ],
      "metadata": {
        "colab": {
          "base_uri": "https://localhost:8080/"
        },
        "id": "Cikh0oFgAVpR",
        "outputId": "bd95d007-c868-4fed-cd98-e473ae950a9f"
      },
      "execution_count": 14,
      "outputs": [
        {
          "output_type": "execute_result",
          "data": {
            "text/plain": [
              "True"
            ]
          },
          "metadata": {},
          "execution_count": 14
        }
      ]
    },
    {
      "cell_type": "code",
      "source": [
        "almost_there(150)\n"
      ],
      "metadata": {
        "colab": {
          "base_uri": "https://localhost:8080/"
        },
        "id": "ww7mq92pBdNJ",
        "outputId": "f407555b-8492-409f-8758-b77247c0a4de"
      },
      "execution_count": 15,
      "outputs": [
        {
          "output_type": "execute_result",
          "data": {
            "text/plain": [
              "False"
            ]
          },
          "metadata": {},
          "execution_count": 15
        }
      ]
    },
    {
      "cell_type": "code",
      "source": [
        "almost_there(209)"
      ],
      "metadata": {
        "colab": {
          "base_uri": "https://localhost:8080/"
        },
        "id": "mBNsKKy6Bg1z",
        "outputId": "3cff41e6-9517-4c6b-8ecd-0e861af4d6f3"
      },
      "execution_count": 16,
      "outputs": [
        {
          "output_type": "execute_result",
          "data": {
            "text/plain": [
              "True"
            ]
          },
          "metadata": {},
          "execution_count": 16
        }
      ]
    },
    {
      "cell_type": "code",
      "source": [
        "def has_33(nums):\n",
        "  count = 0\n",
        "  for n in nums:\n",
        "    if n == 3:\n",
        "      count += 1\n",
        "    else:\n",
        "      pass\n",
        "  if count >= 2:\n",
        "    return True\n",
        "  else:\n",
        "    return False\n",
        "\n"
      ],
      "metadata": {
        "id": "MauPjOPWBhhq"
      },
      "execution_count": 18,
      "outputs": []
    },
    {
      "cell_type": "code",
      "source": [
        "has_33([1,3,3])"
      ],
      "metadata": {
        "colab": {
          "base_uri": "https://localhost:8080/"
        },
        "id": "J45o8wQeB_PH",
        "outputId": "324ca8c3-fea8-4039-8e43-a8b28cd164c1"
      },
      "execution_count": 19,
      "outputs": [
        {
          "output_type": "execute_result",
          "data": {
            "text/plain": [
              "True"
            ]
          },
          "metadata": {},
          "execution_count": 19
        }
      ]
    },
    {
      "cell_type": "code",
      "source": [
        "has_33([1,3,1,3])"
      ],
      "metadata": {
        "colab": {
          "base_uri": "https://localhost:8080/"
        },
        "id": "tTQxtpjaCGyt",
        "outputId": "b79986c8-d5fb-4558-d9e7-92c58910d22a"
      },
      "execution_count": 21,
      "outputs": [
        {
          "output_type": "execute_result",
          "data": {
            "text/plain": [
              "True"
            ]
          },
          "metadata": {},
          "execution_count": 21
        }
      ]
    },
    {
      "cell_type": "code",
      "source": [
        "has_33([3,1,3])"
      ],
      "metadata": {
        "colab": {
          "base_uri": "https://localhost:8080/"
        },
        "id": "Llp7ET7ACKW9",
        "outputId": "0e91c7c3-b029-43e2-dccf-cafabb6bfddc"
      },
      "execution_count": 22,
      "outputs": [
        {
          "output_type": "execute_result",
          "data": {
            "text/plain": [
              "True"
            ]
          },
          "metadata": {},
          "execution_count": 22
        }
      ]
    },
    {
      "cell_type": "code",
      "source": [
        "has_33([1,2,3,4])"
      ],
      "metadata": {
        "colab": {
          "base_uri": "https://localhost:8080/"
        },
        "id": "nr3HR9t0CPzC",
        "outputId": "124f2bc6-a478-417e-d3fd-d35358703809"
      },
      "execution_count": 23,
      "outputs": [
        {
          "output_type": "execute_result",
          "data": {
            "text/plain": [
              "False"
            ]
          },
          "metadata": {},
          "execution_count": 23
        }
      ]
    },
    {
      "cell_type": "code",
      "source": [
        "def paper_doll(text):\n",
        "  res =''\n",
        "  for n in text:\n",
        "    res += n*3\n",
        "  return res\n",
        "\n",
        "paper_doll('Hello')"
      ],
      "metadata": {
        "colab": {
          "base_uri": "https://localhost:8080/",
          "height": 35
        },
        "id": "T-UQ8ppdCSJb",
        "outputId": "1c4cdc08-767b-40f3-a991-ed299efaa1b6"
      },
      "execution_count": 24,
      "outputs": [
        {
          "output_type": "execute_result",
          "data": {
            "text/plain": [
              "'HHHeeellllllooo'"
            ],
            "application/vnd.google.colaboratory.intrinsic+json": {
              "type": "string"
            }
          },
          "metadata": {},
          "execution_count": 24
        }
      ]
    },
    {
      "cell_type": "code",
      "source": [
        "paper_doll('Mississippi')"
      ],
      "metadata": {
        "colab": {
          "base_uri": "https://localhost:8080/",
          "height": 35
        },
        "id": "ndvf8kkfCvlR",
        "outputId": "62217993-3167-447a-9888-0f9da227634f"
      },
      "execution_count": 25,
      "outputs": [
        {
          "output_type": "execute_result",
          "data": {
            "text/plain": [
              "'MMMiiissssssiiissssssiiippppppiii'"
            ],
            "application/vnd.google.colaboratory.intrinsic+json": {
              "type": "string"
            }
          },
          "metadata": {},
          "execution_count": 25
        }
      ]
    },
    {
      "cell_type": "code",
      "source": [
        "def blackjack(a,b,c):\n",
        "  if (a+b+c) <= 21:\n",
        "    return (a+b+c)\n",
        "  elif (a+b+c) > 21:\n",
        "    if a == 11 or b == 11 or c == 11:\n",
        "      sum = (a+b+c) - 10\n",
        "      if (sum) > 21:\n",
        "        return 'BUST'\n",
        "      else:\n",
        "        return sum\n",
        "    else:\n",
        "      return 'BUST'\n",
        ""
      ],
      "metadata": {
        "id": "E-tX4qO-CznP"
      },
      "execution_count": 26,
      "outputs": []
    },
    {
      "cell_type": "code",
      "source": [
        "blackjack(5,6,7)"
      ],
      "metadata": {
        "colab": {
          "base_uri": "https://localhost:8080/"
        },
        "id": "8aK4mvIhD9Te",
        "outputId": "c5c95bb4-5608-4e33-a524-3f0a957cdcd3"
      },
      "execution_count": 28,
      "outputs": [
        {
          "output_type": "execute_result",
          "data": {
            "text/plain": [
              "18"
            ]
          },
          "metadata": {},
          "execution_count": 28
        }
      ]
    },
    {
      "cell_type": "code",
      "source": [
        "blackjack(9,9,9)"
      ],
      "metadata": {
        "colab": {
          "base_uri": "https://localhost:8080/",
          "height": 35
        },
        "id": "qMKCzOVgD_cn",
        "outputId": "d37fe619-fcf5-40b1-c013-527d57e085a2"
      },
      "execution_count": 29,
      "outputs": [
        {
          "output_type": "execute_result",
          "data": {
            "text/plain": [
              "'BUST'"
            ],
            "application/vnd.google.colaboratory.intrinsic+json": {
              "type": "string"
            }
          },
          "metadata": {},
          "execution_count": 29
        }
      ]
    },
    {
      "cell_type": "code",
      "source": [
        "blackjack(9,9,11)"
      ],
      "metadata": {
        "colab": {
          "base_uri": "https://localhost:8080/"
        },
        "id": "n0ZZExBxECi2",
        "outputId": "6c111a56-1530-47ba-de81-8389fe36115a"
      },
      "execution_count": 30,
      "outputs": [
        {
          "output_type": "execute_result",
          "data": {
            "text/plain": [
              "19"
            ]
          },
          "metadata": {},
          "execution_count": 30
        }
      ]
    },
    {
      "cell_type": "code",
      "source": [
        "def summer_69(arr):\n",
        "  res =0\n",
        "  pos6 = 0\n",
        "  pos9 = 0\n",
        "  for n in arr:\n",
        "    res += n\n",
        "  x = list(enumerate(arr))\n",
        "  for i,j in x:\n",
        "    if j == 6:\n",
        "      pos6 = i\n",
        "    if j == 9:\n",
        "      pos9 = i\n",
        "  if pos6 != 0 and pos9!=0:\n",
        "    for z in arr[pos6: pos9+1]:\n",
        "      res -= z\n",
        "\n",
        "\n",
        "\n",
        "  return res\n",
        "\n",
        "\n",
        "\n",
        "summer_69([1,3,5])"
      ],
      "metadata": {
        "colab": {
          "base_uri": "https://localhost:8080/"
        },
        "id": "1R2hn8GWEEnd",
        "outputId": "cb70a1f1-05c7-42a2-f527-4ef118c77fca"
      },
      "execution_count": 66,
      "outputs": [
        {
          "output_type": "execute_result",
          "data": {
            "text/plain": [
              "9"
            ]
          },
          "metadata": {},
          "execution_count": 66
        }
      ]
    },
    {
      "cell_type": "code",
      "source": [
        "summer_69([4,5,6,7,8,9])"
      ],
      "metadata": {
        "colab": {
          "base_uri": "https://localhost:8080/"
        },
        "id": "4EYnEzMOHjnJ",
        "outputId": "4d326ccd-e83e-4477-bc87-720a35388ca2"
      },
      "execution_count": 67,
      "outputs": [
        {
          "output_type": "execute_result",
          "data": {
            "text/plain": [
              "9"
            ]
          },
          "metadata": {},
          "execution_count": 67
        }
      ]
    },
    {
      "cell_type": "code",
      "source": [
        "summer_69([2,1,6,9,11])"
      ],
      "metadata": {
        "colab": {
          "base_uri": "https://localhost:8080/"
        },
        "id": "ObnEseWyJYra",
        "outputId": "211b55e8-6b54-4406-c10a-076946b77a08"
      },
      "execution_count": 68,
      "outputs": [
        {
          "output_type": "execute_result",
          "data": {
            "text/plain": [
              "14"
            ]
          },
          "metadata": {},
          "execution_count": 68
        }
      ]
    },
    {
      "cell_type": "code",
      "source": [
        "#challenging problems"
      ],
      "metadata": {
        "id": "SEVXdnfNLTgC"
      },
      "execution_count": 69,
      "outputs": []
    },
    {
      "cell_type": "code",
      "source": [
        "from pickle import FALSE\n",
        "def spy_game(nums):\n",
        "  x = enumerate(nums)\n",
        "  pos0 = []\n",
        "  pos7 = []\n",
        "  for i,j in x:\n",
        "    if j == 0:\n",
        "      pos0.append(i)\n",
        "    if j== 7:\n",
        "      pos7.append(i)\n",
        "\n",
        "  if pos0[0] < pos0[1] and pos0[1] < pos7[0]:\n",
        "    return True\n",
        "  else:\n",
        "    return False"
      ],
      "metadata": {
        "id": "oucITrSLMTpk"
      },
      "execution_count": 88,
      "outputs": []
    },
    {
      "cell_type": "code",
      "source": [
        "spy_game([1,0,2,3,0,5,7])"
      ],
      "metadata": {
        "colab": {
          "base_uri": "https://localhost:8080/"
        },
        "id": "w1MUx81ZPcj8",
        "outputId": "5d41c8a5-2d4e-4bb5-d97c-19081d80daaf"
      },
      "execution_count": 89,
      "outputs": [
        {
          "output_type": "execute_result",
          "data": {
            "text/plain": [
              "True"
            ]
          },
          "metadata": {},
          "execution_count": 89
        }
      ]
    },
    {
      "cell_type": "code",
      "source": [
        "spy_game([1,7,2,0,4,5,0])"
      ],
      "metadata": {
        "colab": {
          "base_uri": "https://localhost:8080/"
        },
        "id": "Brlu0SLOPzSf",
        "outputId": "a258d7cc-bf60-43b4-d153-1b2e6d65cde4"
      },
      "execution_count": 91,
      "outputs": [
        {
          "output_type": "execute_result",
          "data": {
            "text/plain": [
              "False"
            ]
          },
          "metadata": {},
          "execution_count": 91
        }
      ]
    },
    {
      "cell_type": "code",
      "source": [
        "def count_primes(num):\n",
        "  count = 0\n",
        "  res = 0\n",
        "  for n in range(1,num):\n",
        "    count = 0\n",
        "    for j in range(1, n):\n",
        "      if n % j == 0:\n",
        "        count += 1\n",
        "    if count ==1:\n",
        "      res += 1\n",
        "\n",
        "\n",
        "  return res"
      ],
      "metadata": {
        "id": "6UABE9wWP2rx"
      },
      "execution_count": 118,
      "outputs": []
    },
    {
      "cell_type": "code",
      "source": [
        "count_primes (100)"
      ],
      "metadata": {
        "colab": {
          "base_uri": "https://localhost:8080/"
        },
        "id": "uLwplFoITHjx",
        "outputId": "af95d2e5-9734-4ffc-c811-07a7c519fc72"
      },
      "execution_count": 119,
      "outputs": [
        {
          "output_type": "execute_result",
          "data": {
            "text/plain": [
              "25"
            ]
          },
          "metadata": {},
          "execution_count": 119
        }
      ]
    },
    {
      "cell_type": "code",
      "source": [
        "x = list(range(1,10))"
      ],
      "metadata": {
        "id": "6bJLuk7rTKX1"
      },
      "execution_count": 129,
      "outputs": []
    },
    {
      "cell_type": "code",
      "source": [
        "print(x)"
      ],
      "metadata": {
        "colab": {
          "base_uri": "https://localhost:8080/"
        },
        "id": "XbZtBqfZVCYF",
        "outputId": "23b5bcf8-c78b-4484-f74a-b26df7c10f90"
      },
      "execution_count": 130,
      "outputs": [
        {
          "output_type": "stream",
          "name": "stdout",
          "text": [
            "[1, 2, 3, 4, 5, 6, 7, 8, 9]\n"
          ]
        }
      ]
    },
    {
      "cell_type": "code",
      "source": [],
      "metadata": {
        "id": "73MREShSVOFK"
      },
      "execution_count": null,
      "outputs": []
    }
  ],
  "metadata": {
    "colab": {
      "provenance": [],
      "authorship_tag": "ABX9TyPb48xdhMo2AugceJIzIYJC",
      "include_colab_link": true
    },
    "kernelspec": {
      "display_name": "Python 3",
      "name": "python3"
    },
    "language_info": {
      "name": "python"
    }
  },
  "nbformat": 4,
  "nbformat_minor": 0
}